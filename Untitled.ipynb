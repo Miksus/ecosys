{
 "cells": [
  {
   "cell_type": "markdown",
   "metadata": {},
   "source": [
    "    Author: Mikael Koli\n",
    "    email: koli.mikael@gmail.com\n",
    "    State: In Development"
   ]
  },
  {
   "cell_type": "markdown",
   "metadata": {},
   "source": [
    "# EcoSys Demo"
   ]
  },
  {
   "cell_type": "markdown",
   "metadata": {},
   "source": [
    "This is a template for Jupyter Notebooks\n",
    "\n",
    "## Navigation:\n",
    "* [Setup](#Setup)\n",
    "  * [Imports](#H0_imports)\n",
    "    * [Built-in Imports](#H0_builtin)\n",
    "    * [Custom Imports](#H0_custom)\n",
    "    * [Third party imports](#H0_third)\n",
    "  * [Versions](#H0_versions)\n",
    "  * [Settings](#H0_settings)\n",
    "* [First Section](#H1)"
   ]
  },
  {
   "cell_type": "markdown",
   "metadata": {},
   "source": [
    "## Setup<a class=\"anchor\" id=\"H0\"></a>"
   ]
  },
  {
   "cell_type": "code",
   "execution_count": 2,
   "metadata": {
    "scrolled": true
   },
   "outputs": [
    {
     "name": "stdout",
     "output_type": "stream",
     "text": [
      "Python version: 3.6.6\n",
      "\n",
      "Time of Run: \n",
      "    Year:    2019\n",
      "    Month:   2\n",
      "    Day:     24\n",
      "    Time:    23:25:47.080887\n",
      "\n"
     ]
    }
   ],
   "source": [
    "import datetime\n",
    "import platform\n",
    "import os\n",
    "\n",
    "print(f'Python version: {platform.python_version()}')\n",
    "print(f'''\n",
    "Time of Run: \n",
    "    Year:    {datetime.datetime.now().year}\n",
    "    Month:   {datetime.datetime.now().month}\n",
    "    Day:     {datetime.datetime.now().day}\n",
    "    Time:    {datetime.datetime.now().time()}\n",
    "''')"
   ]
  },
  {
   "cell_type": "markdown",
   "metadata": {},
   "source": [
    "### Imports<a class=\"anchor\" id=\"H0_imports\"></a>"
   ]
  },
  {
   "cell_type": "code",
   "execution_count": 3,
   "metadata": {},
   "outputs": [],
   "source": [
    "import time"
   ]
  },
  {
   "cell_type": "code",
   "execution_count": 8,
   "metadata": {},
   "outputs": [],
   "source": [
    "import numpy as np\n",
    "import matplotlib.pyplot as pld"
   ]
  },
  {
   "cell_type": "code",
   "execution_count": 1,
   "metadata": {},
   "outputs": [],
   "source": [
    "import ecosys"
   ]
  },
  {
   "cell_type": "markdown",
   "metadata": {},
   "source": [
    "### Versions<a class=\"anchor\" id=\"H0_versions\"></a>"
   ]
  },
  {
   "cell_type": "code",
   "execution_count": 124,
   "metadata": {},
   "outputs": [
    {
     "name": "stdout",
     "output_type": "stream",
     "text": [
      "Python version:        3.6.6\n",
      "\n",
      "---------Third Party---------\n",
      "Pandas version:        0.23.4\n",
      "Numpy version:         1.15.2\n",
      "Scipy version:         1.1.0\n",
      "Matplotlib version:    3.0.0\n",
      "Seaborn version:       0.9.0\n"
     ]
    }
   ],
   "source": [
    "print(f'Python version:        {platform.python_version()}\\n')\n",
    "# Third Party\n",
    "from pandas import __version__ as pandas_version\n",
    "from numpy import __version__ as numpy_version\n",
    "from matplotlib import __version__ as matplotlib_version\n",
    "from seaborn import __version__ as seaborn_version\n",
    "from scipy import __version__ as scipy_version\n",
    "\n",
    "print('---------Third Party---------')\n",
    "print(f'Pandas version:        {pandas_version}');     del pandas_version\n",
    "print(f'Numpy version:         {numpy_version}');      del numpy_version\n",
    "print(f'Scipy version:         {scipy_version}');      del scipy_version\n",
    "print(f'Matplotlib version:    {matplotlib_version}'); del matplotlib_version\n",
    "print(f'Seaborn version:       {seaborn_version}');    del seaborn_version\n"
   ]
  },
  {
   "cell_type": "markdown",
   "metadata": {},
   "source": [
    "### Settings<a class=\"anchor\" id=\"H0_settings\"></a>"
   ]
  },
  {
   "cell_type": "code",
   "execution_count": 115,
   "metadata": {},
   "outputs": [],
   "source": [
    "# Warning supressing\n",
    "import warnings\n",
    "warnings.filterwarnings('ignore')\n",
    "\n",
    "# Matplotlib settings\n",
    "%matplotlib inline\n",
    "plt.style.use('ggplot')\n",
    "plt.rcParams['figure.figsize'] = (10.0, 8.0)\n",
    "\n",
    "# Pandas settings\n",
    "pd.set_option(\n",
    "    \"display.max_rows\", 60,\n",
    "    \"display.max_columns\", 20,\n",
    "    \"display.max_colwidth\", 50,\n",
    "    \"precision\", 5,\n",
    "    \"expand_frame_repr\", True,\n",
    "    \"display.date_dayfirst\", False\n",
    ")"
   ]
  },
  {
   "cell_type": "markdown",
   "metadata": {},
   "source": [
    "<br>"
   ]
  },
  {
   "cell_type": "markdown",
   "metadata": {},
   "source": [
    "## First section<a class=\"anchor\" id=\"H1\"></a>"
   ]
  },
  {
   "cell_type": "code",
   "execution_count": 2,
   "metadata": {},
   "outputs": [
    {
     "data": {
      "text/plain": [
       "['StockMarket',\n",
       " '__builtins__',\n",
       " '__cached__',\n",
       " '__doc__',\n",
       " '__file__',\n",
       " '__loader__',\n",
       " '__name__',\n",
       " '__package__',\n",
       " '__path__',\n",
       " '__spec__',\n",
       " 'trading_and_investing']"
      ]
     },
     "execution_count": 2,
     "metadata": {},
     "output_type": "execute_result"
    }
   ],
   "source": [
    "dir(ecosys)"
   ]
  },
  {
   "cell_type": "code",
   "execution_count": 9,
   "metadata": {},
   "outputs": [
    {
     "name": "stdout",
     "output_type": "stream",
     "text": [
      "\n",
      "TRADING\n",
      "Ask <--------------------> Bid\n",
      "Investor 7 <--------------------> Investor 1\n",
      "1956 x Nokia\n",
      "4.9943€ x 1956 = 9768.8508€\n",
      "-------\n",
      "\n",
      "\n",
      "TRADING\n",
      "Ask <--------------------> Bid\n",
      "Investor 7 <--------------------> Investor 9\n",
      "36 x Nokia\n",
      "4.9494€ x 36 = 178.17839999999998€\n",
      "-------\n",
      "\n",
      "\n",
      "TRADING\n",
      "Ask <--------------------> Bid\n",
      "Investor 3 <--------------------> Investor 9\n",
      "1898 x Nokia\n",
      "5.0853€ x 1898 = 9651.8994€\n",
      "-------\n",
      "\n",
      "\n",
      "TRADING\n",
      "Ask <--------------------> Bid\n",
      "Investor 1 <--------------------> Investor 6\n",
      "1995 x Nokia\n",
      "4.9262€ x 1995 = 9827.769€\n",
      "-------\n",
      "\n",
      "\n",
      "TRADING\n",
      "Ask <--------------------> Bid\n",
      "Investor 1 <--------------------> Investor 2\n",
      "51 x Nokia\n",
      "4.9153€ x 51 = 250.68030000000002€\n",
      "-------\n",
      "\n",
      "\n",
      "TRADING\n",
      "Ask <--------------------> Bid\n",
      "Investor 2 <--------------------> Investor 2\n",
      "1986 x Nokia\n",
      "4.9153€ x 1986 = 9761.7858€\n",
      "-------\n",
      "\n",
      "\n",
      "TRADING\n",
      "Ask <--------------------> Bid\n",
      "Investor 2 <--------------------> Investor 1\n",
      "26 x Nokia\n",
      "4.8898€ x 26 = 127.1348€\n",
      "-------\n",
      "\n",
      "\n",
      "TRADING\n",
      "Ask <--------------------> Bid\n",
      "Investor 3 <--------------------> Investor 1\n",
      "1946 x Nokia\n",
      "4.8898€ x 1946 = 9515.5508€\n",
      "-------\n",
      "\n",
      "\n",
      "TRADING\n",
      "Ask <--------------------> Bid\n",
      "Investor 3 <--------------------> Investor 1\n",
      "97 x Nokia\n",
      "4.8882€ x 97 = 474.15540000000004€\n",
      "-------\n",
      "\n",
      "\n",
      "TRADING\n",
      "Ask <--------------------> Bid\n",
      "Investor 3 <--------------------> Investor 1\n",
      "1938 x Nokia\n",
      "4.8882€ x 1938 = 9473.331600000001€\n",
      "-------\n",
      "\n",
      "\n",
      "TRADING\n",
      "Ask <--------------------> Bid\n",
      "Investor 3 <--------------------> Investor 1\n",
      "31 x Nokia\n",
      "4.8585€ x 31 = 150.61350000000002€\n",
      "-------\n",
      "\n",
      "\n",
      "TRADING\n",
      "Ask <--------------------> Bid\n",
      "Investor 2 <--------------------> Investor 3\n",
      "1953 x Nokia\n",
      "5.0228€ x 1953 = 9809.528400000001€\n",
      "-------\n",
      "\n",
      "\n",
      "TRADING\n",
      "Ask <--------------------> Bid\n",
      "Investor 3 <--------------------> Investor 3\n",
      "1962 x Nokia\n",
      "4.9046€ x 1962 = 9622.825200000001€\n",
      "-------\n",
      "\n",
      "\n",
      "TRADING\n",
      "Ask <--------------------> Bid\n",
      "Investor 4 <--------------------> Investor 3\n",
      "2012 x Nokia\n",
      "4.8756€ x 2012 = 9809.7072€\n",
      "-------\n",
      "\n",
      "\n",
      "TRADING\n",
      "Ask <--------------------> Bid\n",
      "Investor 4 <--------------------> Investor 4\n",
      "32 x Nokia\n",
      "4.8603€ x 32 = 155.5296€\n",
      "-------\n",
      "\n",
      "\n",
      "TRADING\n",
      "Ask <--------------------> Bid\n",
      "Investor 3 <--------------------> Investor 4\n",
      "94 x Nokia\n",
      "4.9046€ x 94 = 461.03240000000005€\n",
      "-------\n",
      "\n",
      "\n",
      "TRADING\n",
      "Ask <--------------------> Bid\n",
      "Investor 2 <--------------------> Investor 4\n",
      "32 x Nokia\n",
      "5.0228€ x 32 = 160.7296€\n",
      "-------\n",
      "\n",
      "\n",
      "TRADING\n",
      "Ask <--------------------> Bid\n",
      "Investor 4 <--------------------> Investor 4\n",
      "1835 x Nokia\n",
      "5.0686€ x 1835 = 9300.881€\n",
      "-------\n",
      "\n",
      "                   party   price  quantity\n",
      "limit bid 0   Investor 1  4.8585      1961\n",
      "          1   Investor 8  4.5390      2060\n",
      "          2   Investor 1  4.4222      1978\n",
      "          3   Investor 1  4.6139      1970\n",
      "          4   Investor 1  4.4185      2083\n",
      "          5   Investor 2  4.8515      1969\n",
      "          6   Investor 2  4.7032      1994\n",
      "          7   Investor 2  4.7227      1998\n",
      "          8   Investor 2  4.7203      2025\n",
      "          9   Investor 2  4.3750      1968\n",
      "          10  Investor 3  4.7496      2033\n",
      "          11  Investor 3  4.7615      2029\n",
      "          12  Investor 4  4.8068      1902\n",
      "          13  Investor 4  4.5289      1983\n",
      "          14  Investor 4  4.6216      1976\n",
      "          15  Investor 5  4.6210      2080\n",
      "          16  Investor 5  4.4813      2011\n",
      "          17  Investor 5  4.4326      1998\n",
      "          18  Investor 5  4.8430      2026\n",
      "          19  Investor 6  4.7094      1949\n",
      "      ask 0   Investor 3  5.0853        79\n",
      "          1   Investor 5  5.1048      2038\n",
      "          2   Investor 1  5.8325      2005\n",
      "          3   Investor 1  5.2378      2012\n",
      "          4   Investor 2  5.1601      2045\n",
      "          5   Investor 2  5.2211      1997\n",
      "          6   Investor 2  5.4016      1960\n",
      "          7   Investor 3  5.3020      1959\n",
      "          8   Investor 4  5.3498      1916\n",
      "          9   Investor 4  5.7228      1992\n",
      "          10  Investor 4  5.0686       199\n",
      "          11  Investor 4  5.1835      1985\n",
      "          12  Investor 4  5.3881      2009\n",
      "          13  Investor 5  5.4427      1991\n",
      "          14  Investor 5  5.4250      2060\n",
      "          15  Investor 5  5.0471      1976\n",
      "          16  Investor 5  4.9005      1928\n",
      "          17  Investor 5  4.8842      1995\n",
      "          18  Investor 5  5.2830      2102\n",
      "stop  ask 0   Investor 4  5.4938      2011\n",
      "          1   Investor 1  5.4055      1993\n",
      "          2   Investor 3  5.2972      2056\n"
     ]
    },
    {
     "ename": "NameError",
     "evalue": "name 'plt' is not defined",
     "output_type": "error",
     "traceback": [
      "\u001b[1;31m---------------------------------------------------------------------------\u001b[0m",
      "\u001b[1;31mNameError\u001b[0m                                 Traceback (most recent call last)",
      "\u001b[1;32m<ipython-input-9-a3b5f423e6b1>\u001b[0m in \u001b[0;36m<module>\u001b[1;34m\u001b[0m\n\u001b[0;32m     30\u001b[0m \u001b[1;33m\u001b[0m\u001b[0m\n\u001b[0;32m     31\u001b[0m \u001b[0mmy_market\u001b[0m\u001b[1;33m.\u001b[0m\u001b[0mplot_orders\u001b[0m\u001b[1;33m(\u001b[0m\u001b[1;33m)\u001b[0m\u001b[1;33m\u001b[0m\u001b[0m\n\u001b[1;32m---> 32\u001b[1;33m \u001b[0mplt\u001b[0m\u001b[1;33m.\u001b[0m\u001b[0mshow\u001b[0m\u001b[1;33m(\u001b[0m\u001b[1;33m)\u001b[0m\u001b[1;33m\u001b[0m\u001b[0m\n\u001b[0m",
      "\u001b[1;31mNameError\u001b[0m: name 'plt' is not defined"
     ]
    },
    {
     "data": {
      "image/png": "[encoded data removed]",
      "text/plain": [
       "<Figure size 576x288 with 1 Axes>"
      ]
     },
     "metadata": {
      "needs_background": "light"
     },
     "output_type": "display_data"
    },
    {
     "data": {
      "image/png": "[encoded data removed]",
      "text/plain": [
       "<Figure size 432x288 with 2 Axes>"
      ]
     },
     "metadata": {
      "needs_background": "light"
     },
     "output_type": "display_data"
    }
   ],
   "source": [
    "#? Testing\n",
    "def generate_orders(n, mean_price):\n",
    "    order_types = np.random.choice([\"market\", \"limit\", \"stop\"], p=[.05, .9, .05], size=n)\n",
    "    prices = np.round(np.random.normal(loc=mean_price, scale=0.2, size=n), decimals=4)\n",
    "    quantities = np.random.poisson(lam=1500, size=n)+500\n",
    "    return list(zip(prices, quantities, order_types))\n",
    "\n",
    "\n",
    "\n",
    "\n",
    "my_market = ecosys.StockMarket(\"Nokia\")\n",
    "orders_buy = [list(elem) + [\"bid\"] for elem in generate_orders(30, 4.8)]\n",
    "orders_sell = [list(elem) + [\"ask\"] for elem in generate_orders(30, 5.2)]\n",
    "orders = orders_buy+orders_sell\n",
    "np.random.shuffle(orders)\n",
    "pass\n",
    "for i, (p, q, order, position) in enumerate(orders):\n",
    "    method = getattr(my_market, f'place_{position}')\n",
    "    method(party=f'Investor {i+1}', price=p, quantity=q, order_type=order)\n",
    "    if i % 5:\n",
    "\n",
    "        #! Animated Plot\n",
    "        my_market.plot_order_animate()\n",
    "\n",
    "    my_market.clear()\n",
    "    time.sleep(0.1)\n",
    "\n",
    "my_market.clear()\n",
    "print(my_market.to_frame())\n",
    "\n",
    "my_market.plot_orders()\n",
    "plt.show()\n"
   ]
  },
  {
   "cell_type": "code",
   "execution_count": null,
   "metadata": {},
   "outputs": [],
   "source": [
    "# Code block"
   ]
  },
  {
   "cell_type": "code",
   "execution_count": null,
   "metadata": {},
   "outputs": [],
   "source": [
    "# Code block"
   ]
  },
  {
   "cell_type": "code",
   "execution_count": null,
   "metadata": {},
   "outputs": [],
   "source": [
    "# Code block"
   ]
  },
  {
   "cell_type": "code",
   "execution_count": null,
   "metadata": {},
   "outputs": [],
   "source": []
  }
 ],
 "metadata": {
  "kernelspec": {
   "display_name": "Python [default]",
   "language": "python",
   "name": "python3"
  },
  "language_info": {
   "codemirror_mode": {
    "name": "ipython",
    "version": 3
   },
   "file_extension": ".py",
   "mimetype": "text/x-python",
   "name": "python",
   "nbconvert_exporter": "python",
   "pygments_lexer": "ipython3",
   "version": "3.6.6"
  }
 },
 "nbformat": 4,
 "nbformat_minor": 2
}
