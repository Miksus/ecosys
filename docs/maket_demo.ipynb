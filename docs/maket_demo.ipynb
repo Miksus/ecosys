{
 "cells": [
  {
   "cell_type": "markdown",
   "metadata": {},
   "source": [
    "    Author: Mikael Koli\n",
    "    email: koli.mikael@gmail.com"
   ]
  },
  {
   "cell_type": "markdown",
   "metadata": {},
   "source": [
    "# EcoSys Market Matcher Demo"
   ]
  },
  {
   "cell_type": "markdown",
   "metadata": {},
   "source": [
    "This is a short demo for the StockMatcher.\n",
    "\n",
    "## Navigation:\n",
    "* [Setup](#Setup)\n",
    "  * [Imports](#H0_imports)\n",
    "    * [Built-in Imports](#H0_builtin)\n",
    "    * [Custom Imports](#H0_custom)\n",
    "    * [Third party imports](#H0_third)\n",
    "  * [Versions](#H0_versions)\n",
    "  * [Settings](#H0_settings)\n",
    "* [Market Matching Demonstration](#H1)\n",
    "    * [Demonstration of Single Orders](#H0H)\n",
    "        * [Two orders](#H01)\n",
    "        * [Multiple Orders](#H02)\n",
    "        * [Multiple Order Types](#H03)\n",
    "    * [Simulated Orders](#H1H)\n",
    "        * [Generate Random Orders](#H10)\n",
    "        * [Simulate Trading and Visualize Order Book](#H11)\n",
    "        * [Animated Orders](#H12)\n",
    "        * [Market Information](#H13)"
   ]
  },
  {
   "cell_type": "markdown",
   "metadata": {},
   "source": [
    "### Imports<a class=\"anchor\" id=\"H0_imports\"></a>"
   ]
  },
  {
   "cell_type": "code",
   "execution_count": 1,
   "metadata": {},
   "outputs": [],
   "source": [
    "import time"
   ]
  },
  {
   "cell_type": "code",
   "execution_count": 2,
   "metadata": {},
   "outputs": [],
   "source": [
    "import numpy as np\n",
    "import pandas as pd\n",
    "import matplotlib.pyplot as plt"
   ]
  },
  {
   "cell_type": "code",
   "execution_count": 3,
   "metadata": {},
   "outputs": [],
   "source": [
    "import sys\n",
    "sys.path.append(\"..\")\n",
    "import ecosys"
   ]
  },
  {
   "cell_type": "markdown",
   "metadata": {},
   "source": [
    "### Versions<a class=\"anchor\" id=\"H0_versions\"></a>"
   ]
  },
  {
   "cell_type": "code",
   "execution_count": 4,
   "metadata": {},
   "outputs": [
    {
     "name": "stdout",
     "output_type": "stream",
     "text": [
      "---------Third Party---------\n",
      "Pandas version:        0.24.2\n",
      "Numpy version:         1.14.2\n",
      "Scipy version:         1.1.0\n",
      "Matplotlib version:    3.0.0\n",
      "Seaborn version:       0.9.0\n"
     ]
    }
   ],
   "source": [
    "\n",
    "# Third Party\n",
    "from pandas import __version__ as pandas_version\n",
    "from numpy import __version__ as numpy_version\n",
    "from matplotlib import __version__ as matplotlib_version\n",
    "from seaborn import __version__ as seaborn_version\n",
    "from scipy import __version__ as scipy_version\n",
    "\n",
    "print('---------Third Party---------')\n",
    "print(f'Pandas version:        {pandas_version}');     del pandas_version\n",
    "print(f'Numpy version:         {numpy_version}');      del numpy_version\n",
    "print(f'Scipy version:         {scipy_version}');      del scipy_version\n",
    "print(f'Matplotlib version:    {matplotlib_version}'); del matplotlib_version\n",
    "print(f'Seaborn version:       {seaborn_version}');    del seaborn_version\n"
   ]
  },
  {
   "cell_type": "markdown",
   "metadata": {},
   "source": [
    "### Settings<a class=\"anchor\" id=\"H0_settings\"></a>"
   ]
  },
  {
   "cell_type": "code",
   "execution_count": 5,
   "metadata": {},
   "outputs": [],
   "source": [
    "# Warning supressing\n",
    "import warnings\n",
    "warnings.filterwarnings('ignore')\n",
    "\n",
    "# Matplotlib settings\n",
    "%matplotlib inline\n",
    "plt.style.use('ggplot')\n",
    "plt.rcParams['figure.figsize'] = (10.0, 8.0)\n",
    "\n",
    "# Pandas settings\n",
    "pd.set_option(\n",
    "    \"display.max_rows\", 60,\n",
    "    \"display.max_columns\", 20,\n",
    "    \"display.max_colwidth\", 30,\n",
    "    \"precision\", 5,\n",
    "    \"expand_frame_repr\", False,\n",
    "    \"display.date_dayfirst\", False\n",
    ")"
   ]
  },
  {
   "cell_type": "markdown",
   "metadata": {},
   "source": [
    "<br>"
   ]
  },
  {
   "cell_type": "markdown",
   "metadata": {},
   "source": [
    "# Market Matching Demonstration<a class=\"anchor\" id=\"H1\"></a>"
   ]
  },
  {
   "cell_type": "markdown",
   "metadata": {},
   "source": [
    "## Demonstration of Single Orders<a class=\"anchor\" id=\"H0H\"></a>"
   ]
  },
  {
   "cell_type": "markdown",
   "metadata": {},
   "source": [
    "### Two orders"
   ]
  },
  {
   "cell_type": "code",
   "execution_count": 6,
   "metadata": {},
   "outputs": [
    {
     "name": "stdout",
     "output_type": "stream",
     "text": [
      "Orders in the Market\n",
      "                  party  quantity  price\n",
      "limit bid 0  Investor A       200   4.99\n",
      "      ask 0  Investor B       200   5.01\n",
      "\n",
      "Trades\n",
      "Empty DataFrame\n",
      "Columns: []\n",
      "Index: []\n"
     ]
    }
   ],
   "source": [
    "my_market = ecosys.trading_platform.StockMatcher(\"Nokia\")\n",
    "my_market.place_bid(order_type=\"limit\", party=\"Investor A\", price=4.99, quantity=200)\n",
    "my_market.place_ask(order_type=\"limit\", party=\"Investor B\", price=5.01, quantity=200)\n",
    "\n",
    "# Clear should do nothing as the orders cannot be filled\n",
    "my_market.clear()\n",
    "\n",
    "print(\"Orders in the Market\")\n",
    "print(my_market.to_frame())\n",
    "print(\"\\nTrades\")\n",
    "print(my_market.historical)"
   ]
  },
  {
   "cell_type": "code",
   "execution_count": 7,
   "metadata": {},
   "outputs": [
    {
     "name": "stdout",
     "output_type": "stream",
     "text": [
      "Orders in the Market\n",
      "Empty DataFrame\n",
      "Columns: [party, quantity, price]\n",
      "Index: []\n",
      "\n",
      "Trades\n",
      "                             ask                            bid  quantity  ticks\n",
      "0  {'party': 'Investor B', 't...  {'party': 'Investor A', 't...       200  500.0\n"
     ]
    }
   ],
   "source": [
    "my_market = ecosys.trading_platform.StockMatcher(\"Nokia\")\n",
    "my_market.place_bid(order_type=\"limit\", party=\"Investor A\", price=5.01, quantity=200)\n",
    "my_market.place_ask(order_type=\"limit\", party=\"Investor B\", price=4.99, quantity=200)\n",
    "\n",
    "# Clear should do nothing as the orders cannot be filled\n",
    "my_market.clear()\n",
    "print(\"Orders in the Market\")\n",
    "print(my_market.to_frame())\n",
    "print(\"\\nTrades\")\n",
    "print(my_market.historical)"
   ]
  },
  {
   "cell_type": "markdown",
   "metadata": {},
   "source": [
    "## Multiple Orders"
   ]
  },
  {
   "cell_type": "code",
   "execution_count": 8,
   "metadata": {},
   "outputs": [
    {
     "name": "stdout",
     "output_type": "stream",
     "text": [
      "Orders in the market\n",
      "                  party  quantity  price\n",
      "limit bid 0  Investor A       900   4.95\n",
      "          1  Investor C       200   4.99\n",
      "      ask 0  Investor B       900   5.05\n",
      "          1  Investor D       900   5.01\n",
      "\n",
      "Trades\n",
      "                             ask                            bid  quantity  ticks\n",
      "0  {'party': 'Investor A', 't...  {'party': 'Investor E', 't...       100  499.5\n",
      "1  {'party': 'Investor A', 't...  {'party': 'Investor C', 't...       100  498.5\n"
     ]
    }
   ],
   "source": [
    "my_market = ecosys.trading_platform.StockMatcher(\"Nokia\")\n",
    "my_market.place_bid(order_type=\"limit\", party=\"Investor A\", price=4.95, quantity=900)\n",
    "my_market.place_ask(order_type=\"limit\", party=\"Investor B\", price=5.05, quantity=900)\n",
    "my_market.place_bid(order_type=\"limit\", party=\"Investor C\", price=4.99, quantity=300)\n",
    "my_market.place_ask(order_type=\"limit\", party=\"Investor D\", price=5.01, quantity=900)\n",
    "my_market.place_bid(order_type=\"limit\", party=\"Investor E\", price=5.02, quantity=100)\n",
    "my_market.place_ask(order_type=\"limit\", party=\"Investor A\", price=4.98, quantity=200)\n",
    "\n",
    "# Clear should do nothing as the orders cannot be filled\n",
    "my_market.clear()\n",
    "\n",
    "print(\"Orders in the market\")\n",
    "print(my_market.to_frame())\n",
    "print(\"\\nTrades\")\n",
    "print(my_market.historical)"
   ]
  },
  {
   "cell_type": "markdown",
   "metadata": {},
   "source": [
    "### Multiple Order Types"
   ]
  },
  {
   "cell_type": "code",
   "execution_count": 9,
   "metadata": {},
   "outputs": [
    {
     "name": "stdout",
     "output_type": "stream",
     "text": [
      "Last price 4.95\n",
      "Orders in the market\n",
      "                   party  price  quantity\n",
      "limit  bid 0  Investor A   4.95       100\n",
      "       ask 0  Investor D   5.01       900\n",
      "           1  Investor A   4.98       150\n",
      "market ask 0  Investor Y    NaN       100\n",
      "stop   ask 0  Investor C   5.05        50\n",
      "\n",
      "Trades\n",
      "                             ask                            bid  price  quantity\n",
      "0  {'party': 'Investor B', 'q...  {'party': 'Investor E', 'p...   5.02       100\n",
      "1  {'party': 'Investor B', 'q...  {'party': 'Investor A', 'p...   4.95       800\n",
      "2  {'party': 'Investor A', 'p...  {'party': 'Investor C', 'q...   4.98        50\n"
     ]
    }
   ],
   "source": [
    "my_market = ecosys.trading_platform.StockMatcher(\"Nokia\")\n",
    "my_market.place_bid(order_type=\"limit\", party=\"Investor A\", price=4.95, quantity=900)\n",
    "my_market.place_ask(order_type=\"market\", party=\"Investor B\", quantity=900)\n",
    "\n",
    "my_market.place_ask(order_type=\"limit\", party=\"Investor D\", price=5.01, quantity=900)\n",
    "my_market.place_bid(order_type=\"limit\", party=\"Investor E\", price=5.02, quantity=100)\n",
    "my_market.place_ask(order_type=\"limit\", party=\"Investor A\", price=4.98, quantity=200)\n",
    "\n",
    "my_market.clear()\n",
    "\n",
    "print(f\"Last price {my_market.last_price}\")\n",
    "my_market.place_bid(order_type=\"stop\", party=\"Investor C\", price=4.96, quantity=50)\n",
    "my_market.place_ask(order_type=\"stop\", party=\"Investor C\", price=5.05, quantity=50)\n",
    "my_market.clear()\n",
    "\n",
    "\n",
    "my_market.place_ask(order_type=\"market\", party=\"Investor Y\", quantity=100)\n",
    "print(\"Orders in the market\")\n",
    "print(my_market.to_frame())\n",
    "print(\"\\nTrades\")\n",
    "print(my_market.historical)"
   ]
  },
  {
   "cell_type": "markdown",
   "metadata": {},
   "source": [
    "## Simulated Orders<a class=\"anchor\" id=\"H1H\"></a>"
   ]
  },
  {
   "cell_type": "markdown",
   "metadata": {},
   "source": [
    "### Generate Random Orders<a class=\"anchor\" id=\"H10\"></a>"
   ]
  },
  {
   "cell_type": "code",
   "execution_count": 10,
   "metadata": {},
   "outputs": [],
   "source": [
    "def generate_orders(n, mean_price):\n",
    "    order_types = np.random.choice([\"market\", \"limit\", \"stop\"], p=[.05, .9, .05], size=n)\n",
    "    prices = np.round(np.random.normal(loc=mean_price, scale=0.2, size=n), decimals=4)\n",
    "    quantities = np.random.poisson(lam=1500, size=n)+500\n",
    "    return list(zip(prices, quantities, order_types))"
   ]
  },
  {
   "cell_type": "code",
   "execution_count": 11,
   "metadata": {},
   "outputs": [],
   "source": [
    "orders_buy = [list(elem) + [\"bid\"] for elem in generate_orders(60, 4.8)]\n",
    "orders_sell = [list(elem) + [\"ask\"] for elem in generate_orders(30, 5.2)]\n",
    "orders = orders_buy+orders_sell\n",
    "np.random.shuffle(orders)"
   ]
  },
  {
   "cell_type": "markdown",
   "metadata": {},
   "source": [
    "### Simulate Trading and Visualize Order Book<a class=\"anchor\" id=\"H11\"></a>"
   ]
  },
  {
   "cell_type": "code",
   "execution_count": 12,
   "metadata": {
    "scrolled": false
   },
   "outputs": [
    {
     "data": {
      "image/png": "[encoded data removed]",
      "text/plain": [
       "<Figure size 1500x800 with 2 Axes>"
      ]
     },
     "metadata": {},
     "output_type": "display_data"
    }
   ],
   "source": [
    "%matplotlib inline\n",
    "plt.style.use('default')\n",
    "plt.rcParams['figure.figsize'] = (15.0, 8.0)\n",
    "\n",
    "my_market = ecosys.trading_platform.StockMatcher(\"Nokia\")\n",
    "\n",
    "for i, (p, q, order, position) in enumerate(orders):\n",
    "    method = getattr(my_market, f'place_{position}')\n",
    "    method(party=f'Investor {i+1}', price=p, quantity=q, order_type=order)\n",
    "\n",
    "my_market.clear()\n",
    "my_market.plot_orders()\n",
    "plt.show()"
   ]
  },
  {
   "cell_type": "markdown",
   "metadata": {},
   "source": [
    "- X-axis: Price\n",
    "- Y-axis: Quantity\n",
    "\n",
    "Small green and red sticks in the horizontal axis represent the price of each individual order."
   ]
  },
  {
   "cell_type": "code",
   "execution_count": 13,
   "metadata": {},
   "outputs": [
    {
     "data": {
      "image/png": "[encoded data removed]",
      "text/plain": [
       "<Figure size 1500x800 with 1 Axes>"
      ]
     },
     "metadata": {},
     "output_type": "display_data"
    }
   ],
   "source": [
    "my_market.plot_order_book()"
   ]
  },
  {
   "cell_type": "markdown",
   "metadata": {},
   "source": [
    "### Animated Orders<a class=\"anchor\" id=\"H12\"></a>"
   ]
  },
  {
   "cell_type": "markdown",
   "metadata": {},
   "source": [
    "When the code below is run, Matplotlib is opened in Qt window where the orders are animated \"real time\"."
   ]
  },
  {
   "cell_type": "code",
   "execution_count": 14,
   "metadata": {},
   "outputs": [
    {
     "data": {
      "image/png": "[encoded data removed]",
      "text/plain": [
       "<Figure size 576x284 with 1 Axes>"
      ]
     },
     "metadata": {},
     "output_type": "display_data"
    }
   ],
   "source": [
    "%matplotlib qt\n",
    "my_market = ecosys.trading_platform.StockMatcher(\"Nokia\")\n",
    "orders_buy = [list(elem) + [\"bid\"] for elem in generate_orders(60, 4.8)]\n",
    "orders_sell = [list(elem) + [\"ask\"] for elem in generate_orders(30, 5.2)]\n",
    "orders = orders_buy+orders_sell\n",
    "np.random.shuffle(orders)\n",
    "\n",
    "for i, (p, q, order, position) in enumerate(orders):\n",
    "    method = getattr(my_market, f'place_{position}')\n",
    "    method(party=f'Investor {i+1}', price=p, quantity=q, order_type=order)\n",
    "    if i % 5:\n",
    "        my_market.plot_order_animate()\n",
    "\n",
    "    my_market.clear()\n",
    "    time.sleep(0.1)\n"
   ]
  },
  {
   "cell_type": "markdown",
   "metadata": {},
   "source": [
    "### Market Information<a class=\"anchor\" id=\"H13\"></a>\n",
    "This section is about showing the market information from current state."
   ]
  },
  {
   "cell_type": "code",
   "execution_count": 15,
   "metadata": {},
   "outputs": [],
   "source": [
    "%matplotlib inline"
   ]
  },
  {
   "cell_type": "code",
   "execution_count": 16,
   "metadata": {},
   "outputs": [
    {
     "data": {
      "text/plain": [
       "Text(0.5, 1.0, 'Bid-Ask Quantities')"
      ]
     },
     "execution_count": 16,
     "metadata": {},
     "output_type": "execute_result"
    },
    {
     "data": {
      "image/png": "[encoded data removed]",
      "text/plain": [
       "<Figure size 432x288 with 1 Axes>"
      ]
     },
     "metadata": {
      "needs_background": "light"
     },
     "output_type": "display_data"
    }
   ],
   "source": [
    "df_plot = my_market.to_frame()\n",
    "df_plot = df_plot[df_plot.index.get_level_values(1) == \"bid\"]\n",
    "df_plot[\"price\"].hist(weights=df_plot[\"quantity\"], label=\"Bids\")\n",
    "\n",
    "df_plot = my_market.to_frame()\n",
    "df_plot = df_plot[df_plot.index.get_level_values(1) == \"ask\"]\n",
    "df_plot[\"price\"].hist(weights=df_plot[\"quantity\"], label=\"Asks\")\n",
    "plt.legend()\n",
    "plt.title(\"Bid-Ask Quantities\")"
   ]
  },
  {
   "cell_type": "markdown",
   "metadata": {},
   "source": [
    "© 2019 Mikael Koli"
   ]
  }
 ],
 "metadata": {
  "kernelspec": {
   "display_name": "Python [default]",
   "language": "python",
   "name": "python3"
  },
  "language_info": {
   "codemirror_mode": {
    "name": "ipython",
    "version": 3
   },
   "file_extension": ".py",
   "mimetype": "text/x-python",
   "name": "python",
   "nbconvert_exporter": "python",
   "pygments_lexer": "ipython3",
   "version": "3.6.6"
  }
 },
 "nbformat": 4,
 "nbformat_minor": 2
}
