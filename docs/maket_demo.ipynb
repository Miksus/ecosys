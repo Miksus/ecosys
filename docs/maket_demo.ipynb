{
 "cells": [
  {
   "cell_type": "markdown",
   "metadata": {},
   "source": [
    "    Author: Mikael Koli\n",
    "    email: koli.mikael@gmail.com\n",
    "    State: In Development"
   ]
  },
  {
   "cell_type": "markdown",
   "metadata": {},
   "source": [
    "# EcoSys Market Matcher Demo"
   ]
  },
  {
   "cell_type": "markdown",
   "metadata": {},
   "source": [
    "This is a template for Jupyter Notebooks\n",
    "\n",
    "## Navigation:\n",
    "* [Setup](#Setup)\n",
    "  * [Imports](#H0_imports)\n",
    "    * [Built-in Imports](#H0_builtin)\n",
    "    * [Custom Imports](#H0_custom)\n",
    "    * [Third party imports](#H0_third)\n",
    "  * [Versions](#H0_versions)\n",
    "  * [Settings](#H0_settings)\n",
    "* [First Section](#H1)"
   ]
  },
  {
   "cell_type": "markdown",
   "metadata": {},
   "source": [
    "### Imports<a class=\"anchor\" id=\"H0_imports\"></a>"
   ]
  },
  {
   "cell_type": "code",
   "execution_count": 6,
   "metadata": {},
   "outputs": [],
   "source": [
    "import time"
   ]
  },
  {
   "cell_type": "code",
   "execution_count": 7,
   "metadata": {},
   "outputs": [],
   "source": [
    "import numpy as np\n",
    "import pandas as pd\n",
    "import matplotlib.pyplot as plt"
   ]
  },
  {
   "cell_type": "code",
   "execution_count": 8,
   "metadata": {},
   "outputs": [],
   "source": [
    "import sys\n",
    "sys.path.append(\"..\")\n",
    "import ecosys"
   ]
  },
  {
   "cell_type": "markdown",
   "metadata": {},
   "source": [
    "### Versions<a class=\"anchor\" id=\"H0_versions\"></a>"
   ]
  },
  {
   "cell_type": "code",
   "execution_count": 9,
   "metadata": {},
   "outputs": [
    {
     "ename": "NameError",
     "evalue": "name 'platform' is not defined",
     "output_type": "error",
     "traceback": [
      "\u001b[1;31m---------------------------------------------------------------------------\u001b[0m",
      "\u001b[1;31mNameError\u001b[0m                                 Traceback (most recent call last)",
      "\u001b[1;32m<ipython-input-9-691e533288cd>\u001b[0m in \u001b[0;36m<module>\u001b[1;34m\u001b[0m\n\u001b[1;32m----> 1\u001b[1;33m \u001b[0mprint\u001b[0m\u001b[1;33m(\u001b[0m\u001b[1;34mf'Python version:        {platform.python_version()}\\n'\u001b[0m\u001b[1;33m)\u001b[0m\u001b[1;33m\u001b[0m\u001b[0m\n\u001b[0m\u001b[0;32m      2\u001b[0m \u001b[1;31m# Third Party\u001b[0m\u001b[1;33m\u001b[0m\u001b[1;33m\u001b[0m\u001b[0m\n\u001b[0;32m      3\u001b[0m \u001b[1;32mfrom\u001b[0m \u001b[0mpandas\u001b[0m \u001b[1;32mimport\u001b[0m \u001b[0m__version__\u001b[0m \u001b[1;32mas\u001b[0m \u001b[0mpandas_version\u001b[0m\u001b[1;33m\u001b[0m\u001b[0m\n\u001b[0;32m      4\u001b[0m \u001b[1;32mfrom\u001b[0m \u001b[0mnumpy\u001b[0m \u001b[1;32mimport\u001b[0m \u001b[0m__version__\u001b[0m \u001b[1;32mas\u001b[0m \u001b[0mnumpy_version\u001b[0m\u001b[1;33m\u001b[0m\u001b[0m\n\u001b[0;32m      5\u001b[0m \u001b[1;32mfrom\u001b[0m \u001b[0mmatplotlib\u001b[0m \u001b[1;32mimport\u001b[0m \u001b[0m__version__\u001b[0m \u001b[1;32mas\u001b[0m \u001b[0mmatplotlib_version\u001b[0m\u001b[1;33m\u001b[0m\u001b[0m\n",
      "\u001b[1;31mNameError\u001b[0m: name 'platform' is not defined"
     ]
    }
   ],
   "source": [
    "print(f'Python version:        {platform.python_version()}\\n')\n",
    "# Third Party\n",
    "from pandas import __version__ as pandas_version\n",
    "from numpy import __version__ as numpy_version\n",
    "from matplotlib import __version__ as matplotlib_version\n",
    "from seaborn import __version__ as seaborn_version\n",
    "from scipy import __version__ as scipy_version\n",
    "\n",
    "print('---------Third Party---------')\n",
    "print(f'Pandas version:        {pandas_version}');     del pandas_version\n",
    "print(f'Numpy version:         {numpy_version}');      del numpy_version\n",
    "print(f'Scipy version:         {scipy_version}');      del scipy_version\n",
    "print(f'Matplotlib version:    {matplotlib_version}'); del matplotlib_version\n",
    "print(f'Seaborn version:       {seaborn_version}');    del seaborn_version\n"
   ]
  },
  {
   "cell_type": "markdown",
   "metadata": {},
   "source": [
    "### Settings<a class=\"anchor\" id=\"H0_settings\"></a>"
   ]
  },
  {
   "cell_type": "code",
   "execution_count": 10,
   "metadata": {},
   "outputs": [],
   "source": [
    "# Warning supressing\n",
    "import warnings\n",
    "warnings.filterwarnings('ignore')\n",
    "\n",
    "# Matplotlib settings\n",
    "%matplotlib inline\n",
    "plt.style.use('ggplot')\n",
    "plt.rcParams['figure.figsize'] = (10.0, 8.0)\n",
    "\n",
    "# Pandas settings\n",
    "pd.set_option(\n",
    "    \"display.max_rows\", 60,\n",
    "    \"display.max_columns\", 20,\n",
    "    \"display.max_colwidth\", 50,\n",
    "    \"precision\", 5,\n",
    "    \"expand_frame_repr\", True,\n",
    "    \"display.date_dayfirst\", False\n",
    ")"
   ]
  },
  {
   "cell_type": "markdown",
   "metadata": {},
   "source": [
    "<br>"
   ]
  },
  {
   "cell_type": "markdown",
   "metadata": {},
   "source": [
    "## Market Matching Demonstration<a class=\"anchor\" id=\"H1\"></a>"
   ]
  },
  {
   "cell_type": "markdown",
   "metadata": {},
   "source": [
    "## Generate Random Orders"
   ]
  },
  {
   "cell_type": "code",
   "execution_count": 11,
   "metadata": {},
   "outputs": [],
   "source": [
    "def generate_orders(n, mean_price):\n",
    "    order_types = np.random.choice([\"market\", \"limit\", \"stop\"], p=[.05, .9, .05], size=n)\n",
    "    prices = np.round(np.random.normal(loc=mean_price, scale=0.2, size=n), decimals=4)\n",
    "    quantities = np.random.poisson(lam=1500, size=n)+500\n",
    "    return list(zip(prices, quantities, order_types))"
   ]
  },
  {
   "cell_type": "code",
   "execution_count": 65,
   "metadata": {},
   "outputs": [],
   "source": [
    "orders_buy = [list(elem) + [\"bid\"] for elem in generate_orders(60, 4.8)]\n",
    "orders_sell = [list(elem) + [\"ask\"] for elem in generate_orders(30, 5.2)]\n",
    "orders = orders_buy+orders_sell\n",
    "np.random.shuffle(orders)"
   ]
  },
  {
   "cell_type": "markdown",
   "metadata": {},
   "source": [
    "## Simulate Trading and Visualize Order Book"
   ]
  },
  {
   "cell_type": "code",
   "execution_count": 66,
   "metadata": {
    "scrolled": false
   },
   "outputs": [
    {
     "data": {
      "image/png": "[encoded data removed]",
      "text/plain": [
       "<Figure size 1500x800 with 2 Axes>"
      ]
     },
     "metadata": {},
     "output_type": "display_data"
    }
   ],
   "source": [
    "%matplotlib inline\n",
    "plt.style.use('default')\n",
    "plt.rcParams['figure.figsize'] = (15.0, 8.0)\n",
    "\n",
    "my_market = ecosys.StockMatcher(\"Nokia\")\n",
    "\n",
    "for i, (p, q, order, position) in enumerate(orders):\n",
    "    method = getattr(my_market, f'place_{position}')\n",
    "    method(party=f'Investor {i+1}', price=p, quantity=q, order_type=order)\n",
    "\n",
    "my_market.clear()\n",
    "my_market.plot_orders()\n",
    "plt.show()"
   ]
  },
  {
   "cell_type": "markdown",
   "metadata": {},
   "source": [
    "- X-axis: Price\n",
    "- Y-axis: Quantity\n",
    "\n",
    "Small green and red sticks in the horizontal axis represent the price of each individual order."
   ]
  },
  {
   "cell_type": "markdown",
   "metadata": {},
   "source": [
    "## Animated Orders"
   ]
  },
  {
   "cell_type": "markdown",
   "metadata": {},
   "source": [
    "When the code below is run, Matplotlib is opened in Qt window where the orders are animated."
   ]
  },
  {
   "cell_type": "code",
   "execution_count": 68,
   "metadata": {},
   "outputs": [
    {
     "data": {
      "image/png": "[encoded data removed]",
      "text/plain": [
       "<Figure size 800x396 with 1 Axes>"
      ]
     },
     "metadata": {},
     "output_type": "display_data"
    }
   ],
   "source": [
    "%matplotlib qt\n",
    "my_market = ecosys.StockMatcher(\"Nokia\")\n",
    "orders_buy = [list(elem) + [\"bid\"] for elem in generate_orders(60, 4.8)]\n",
    "orders_sell = [list(elem) + [\"ask\"] for elem in generate_orders(30, 5.2)]\n",
    "orders = orders_buy+orders_sell\n",
    "np.random.shuffle(orders)\n",
    "\n",
    "for i, (p, q, order, position) in enumerate(orders):\n",
    "    method = getattr(my_market, f'place_{position}')\n",
    "    method(party=f'Investor {i+1}', price=p, quantity=q, order_type=order)\n",
    "    if i % 5:\n",
    "        my_market.plot_order_animate()\n",
    "\n",
    "    my_market.clear()\n",
    "    time.sleep(0.1)\n"
   ]
  },
  {
   "cell_type": "markdown",
   "metadata": {},
   "source": [
    "## Market Information"
   ]
  },
  {
   "cell_type": "code",
   "execution_count": 34,
   "metadata": {
    "scrolled": true
   },
   "outputs": [
    {
     "data": {
      "text/plain": [
       "<matplotlib.axes._subplots.AxesSubplot at 0x2112e77fbe0>"
      ]
     },
     "execution_count": 34,
     "metadata": {},
     "output_type": "execute_result"
    },
    {
     "data": {
      "image/png": "[encoded data removed]",
      "text/plain": [
       "<Figure size 1500x800 with 1 Axes>"
      ]
     },
     "metadata": {},
     "output_type": "display_data"
    }
   ],
   "source": [
    "my_market.to_frame()[\"price\"].hist(weights=my_market.to_frame()[\"quantity\"])"
   ]
  },
  {
   "cell_type": "code",
   "execution_count": 70,
   "metadata": {},
   "outputs": [
    {
     "data": {
      "text/plain": [
       "<matplotlib.axes._subplots.AxesSubplot at 0x211316fa748>"
      ]
     },
     "execution_count": 70,
     "metadata": {},
     "output_type": "execute_result"
    },
    {
     "data": {
      "image/png": "[encoded data removed]",
      "text/plain": [
       "<Figure size 432x288 with 1 Axes>"
      ]
     },
     "metadata": {
      "needs_background": "light"
     },
     "output_type": "display_data"
    }
   ],
   "source": [
    "%matplotlib inline\n",
    "df_plot = my_market.to_frame()\n",
    "df_plot = df_plot[df_plot.index.get_level_values(1) == \"bid\"]\n",
    "df_plot[\"price\"].hist(weights=df_plot[\"quantity\"])\n",
    "\n",
    "df_plot = my_market.to_frame()\n",
    "df_plot = df_plot[df_plot.index.get_level_values(1) == \"ask\"]\n",
    "df_plot[\"price\"].hist(weights=df_plot[\"quantity\"])"
   ]
  },
  {
   "cell_type": "code",
   "execution_count": 47,
   "metadata": {},
   "outputs": [
    {
     "data": {
      "text/plain": [
       "{'bid': 47956, 'ask': 47713}"
      ]
     },
     "execution_count": 47,
     "metadata": {},
     "output_type": "execute_result"
    }
   ],
   "source": [
    "my_market.total_quantities"
   ]
  },
  {
   "cell_type": "code",
   "execution_count": 71,
   "metadata": {
    "scrolled": false
   },
   "outputs": [
    {
     "data": {
      "text/plain": [
       "<matplotlib.axes._subplots.AxesSubplot at 0x21131203c18>"
      ]
     },
     "execution_count": 71,
     "metadata": {},
     "output_type": "execute_result"
    },
    {
     "data": {
      "image/png": "[encoded data removed]",
      "text/plain": [
       "<Figure size 432x288 with 1 Axes>"
      ]
     },
     "metadata": {
      "needs_background": "light"
     },
     "output_type": "display_data"
    }
   ],
   "source": [
    "pd.DataFrame(my_market._historical_trades)[\"price\"].hist(weights=pd.DataFrame(my_market._historical_trades)[\"quantity\"])"
   ]
  },
  {
   "cell_type": "code",
   "execution_count": 72,
   "metadata": {},
   "outputs": [
    {
     "data": {
      "text/plain": [
       "{6}"
      ]
     },
     "execution_count": 72,
     "metadata": {},
     "output_type": "execute_result"
    }
   ],
   "source": [
    "p = {\n",
    "    p: (p - perceived_value)\n",
    "    * ((bids[bids >= p] + bid_momentum) / (asks[asks < p] + ask_momentum + asset_value / p))\n",
    "    for p in range(??)\n",
    "}"
   ]
  },
  {
   "cell_type": "code",
   "execution_count": 81,
   "metadata": {},
   "outputs": [
    {
     "data": {
      "text/plain": [
       "33940"
      ]
     },
     "execution_count": 81,
     "metadata": {},
     "output_type": "execute_result"
    }
   ],
   "source": [
    "my_market.order_book[\"limit\"][\"bid\"][my_market.order_book[\"limit\"][\"bid\"][\"price\"] > 4.8][\"quantity\"].sum()"
   ]
  },
  {
   "cell_type": "code",
   "execution_count": 96,
   "metadata": {},
   "outputs": [
    {
     "name": "stdout",
     "output_type": "stream",
     "text": [
      "845 µs ± 35 µs per loop (mean ± std. dev. of 7 runs, 1000 loops each)\n"
     ]
    }
   ],
   "source": [
    "%%timeit\n",
    "pd.DataFrame(my_market._historical_trades)"
   ]
  },
  {
   "cell_type": "code",
   "execution_count": 91,
   "metadata": {},
   "outputs": [
    {
     "data": {
      "text/plain": [
       "array([4.16696   , 4.17742975, 4.1878995 , 4.19836925, 4.20883899,\n",
       "       4.21930874, 4.22977849, 4.24024824, 4.25071799, 4.26118774,\n",
       "       4.27165749, 4.28212724, 4.29259698, 4.30306673, 4.31353648,\n",
       "       4.32400623, 4.33447598, 4.34494573, 4.35541548, 4.36588523,\n",
       "       4.37635497, 4.38682472, 4.39729447, 4.40776422, 4.41823397,\n",
       "       4.42870372, 4.43917347, 4.44964322, 4.46011296, 4.47058271,\n",
       "       4.48105246, 4.49152221, 4.50199196, 4.51246171, 4.52293146,\n",
       "       4.53340121, 4.54387095, 4.5543407 , 4.56481045, 4.5752802 ,\n",
       "       4.58574995, 4.5962197 , 4.60668945, 4.6171592 , 4.62762894,\n",
       "       4.63809869, 4.64856844, 4.65903819, 4.66950794, 4.67997769,\n",
       "       4.69044744, 4.70091719, 4.71138693, 4.72185668, 4.73232643,\n",
       "       4.74279618, 4.75326593, 4.76373568, 4.77420543, 4.78467518,\n",
       "       4.79514492, 4.80561467, 4.81608442, 4.82655417, 4.83702392,\n",
       "       4.84749367, 4.85796342, 4.86843317, 4.87890291, 4.88937266,\n",
       "       4.89984241, 4.91031216, 4.92078191, 4.93125166, 4.94172141,\n",
       "       4.95219116, 4.9626609 , 4.97313065, 4.9836004 , 4.99407015,\n",
       "       5.0045399 , 5.01500965, 5.0254794 , 5.03594915, 5.04641889,\n",
       "       5.05688864, 5.06735839, 5.07782814, 5.08829789, 5.09876764,\n",
       "       5.10923739, 5.11970714, 5.13017688, 5.14064663, 5.15111638,\n",
       "       5.16158613, 5.17205588, 5.18252563, 5.19299538, 5.20346513,\n",
       "       5.21393487, 5.22440462, 5.23487437, 5.24534412, 5.25581387,\n",
       "       5.26628362, 5.27675337, 5.28722312, 5.29769286, 5.30816261,\n",
       "       5.31863236, 5.32910211, 5.33957186, 5.35004161, 5.36051136,\n",
       "       5.37098111, 5.38145085, 5.3919206 , 5.40239035, 5.4128601 ,\n",
       "       5.42332985, 5.4337996 , 5.44426935, 5.4547391 , 5.46520884,\n",
       "       5.47567859, 5.48614834, 5.49661809, 5.50708784, 5.51755759,\n",
       "       5.52802734, 5.53849709, 5.54896683, 5.55943658, 5.56990633,\n",
       "       5.58037608, 5.59084583, 5.60131558, 5.61178533, 5.62225508,\n",
       "       5.63272482, 5.64319457, 5.65366432, 5.66413407, 5.67460382,\n",
       "       5.68507357, 5.69554332, 5.70601307, 5.71648281, 5.72695256,\n",
       "       5.73742231, 5.74789206, 5.75836181, 5.76883156, 5.77930131,\n",
       "       5.78977106, 5.8002408 , 5.81071055, 5.8211803 , 5.83165005,\n",
       "       5.8421198 , 5.85258955, 5.8630593 , 5.87352905, 5.88399879,\n",
       "       5.89446854, 5.90493829, 5.91540804, 5.92587779, 5.93634754,\n",
       "       5.94681729, 5.95728704, 5.96775678, 5.97822653, 5.98869628,\n",
       "       5.99916603, 6.00963578, 6.02010553, 6.03057528, 6.04104503,\n",
       "       6.05151477, 6.06198452, 6.07245427, 6.08292402, 6.09339377,\n",
       "       6.10386352, 6.11433327, 6.12480302, 6.13527276, 6.14574251,\n",
       "       6.15621226, 6.16668201, 6.17715176, 6.18762151, 6.19809126,\n",
       "       6.20856101, 6.21903075, 6.2295005 , 6.23997025, 6.25044   ])"
      ]
     },
     "execution_count": 91,
     "metadata": {},
     "output_type": "execute_result"
    }
   ],
   "source": [
    "np.linspace(my_market.last_price*0.8, my_market.last_price*1.2, 200)"
   ]
  },
  {
   "cell_type": "code",
   "execution_count": 59,
   "metadata": {},
   "outputs": [
    {
     "data": {
      "text/html": [
       "<div>\n",
       "<style scoped>\n",
       "    .dataframe tbody tr th:only-of-type {\n",
       "        vertical-align: middle;\n",
       "    }\n",
       "\n",
       "    .dataframe tbody tr th {\n",
       "        vertical-align: top;\n",
       "    }\n",
       "\n",
       "    .dataframe thead th {\n",
       "        text-align: right;\n",
       "    }\n",
       "</style>\n",
       "<table border=\"1\" class=\"dataframe\">\n",
       "  <thead>\n",
       "    <tr style=\"text-align: right;\">\n",
       "      <th></th>\n",
       "      <th>party</th>\n",
       "      <th>price</th>\n",
       "      <th>quantity</th>\n",
       "    </tr>\n",
       "  </thead>\n",
       "  <tbody>\n",
       "    <tr>\n",
       "      <th>0</th>\n",
       "      <td>Investor 1</td>\n",
       "      <td>4.7720</td>\n",
       "      <td>2024</td>\n",
       "    </tr>\n",
       "    <tr>\n",
       "      <th>1</th>\n",
       "      <td>Investor 2</td>\n",
       "      <td>4.9656</td>\n",
       "      <td>2016</td>\n",
       "    </tr>\n",
       "    <tr>\n",
       "      <th>2</th>\n",
       "      <td>Investor 3</td>\n",
       "      <td>4.8506</td>\n",
       "      <td>1997</td>\n",
       "    </tr>\n",
       "    <tr>\n",
       "      <th>3</th>\n",
       "      <td>Investor 7</td>\n",
       "      <td>4.9478</td>\n",
       "      <td>1985</td>\n",
       "    </tr>\n",
       "    <tr>\n",
       "      <th>4</th>\n",
       "      <td>Investor 1</td>\n",
       "      <td>4.7053</td>\n",
       "      <td>2081</td>\n",
       "    </tr>\n",
       "    <tr>\n",
       "      <th>5</th>\n",
       "      <td>Investor 1</td>\n",
       "      <td>4.6694</td>\n",
       "      <td>2011</td>\n",
       "    </tr>\n",
       "    <tr>\n",
       "      <th>6</th>\n",
       "      <td>Investor 1</td>\n",
       "      <td>4.9914</td>\n",
       "      <td>1989</td>\n",
       "    </tr>\n",
       "    <tr>\n",
       "      <th>7</th>\n",
       "      <td>Investor 1</td>\n",
       "      <td>4.7842</td>\n",
       "      <td>1995</td>\n",
       "    </tr>\n",
       "    <tr>\n",
       "      <th>8</th>\n",
       "      <td>Investor 2</td>\n",
       "      <td>4.4711</td>\n",
       "      <td>2041</td>\n",
       "    </tr>\n",
       "    <tr>\n",
       "      <th>9</th>\n",
       "      <td>Investor 2</td>\n",
       "      <td>4.9166</td>\n",
       "      <td>2015</td>\n",
       "    </tr>\n",
       "    <tr>\n",
       "      <th>10</th>\n",
       "      <td>Investor 3</td>\n",
       "      <td>4.7778</td>\n",
       "      <td>2020</td>\n",
       "    </tr>\n",
       "    <tr>\n",
       "      <th>11</th>\n",
       "      <td>Investor 3</td>\n",
       "      <td>4.7664</td>\n",
       "      <td>1969</td>\n",
       "    </tr>\n",
       "    <tr>\n",
       "      <th>12</th>\n",
       "      <td>Investor 3</td>\n",
       "      <td>4.8272</td>\n",
       "      <td>1956</td>\n",
       "    </tr>\n",
       "    <tr>\n",
       "      <th>13</th>\n",
       "      <td>Investor 3</td>\n",
       "      <td>4.8242</td>\n",
       "      <td>1998</td>\n",
       "    </tr>\n",
       "    <tr>\n",
       "      <th>14</th>\n",
       "      <td>Investor 3</td>\n",
       "      <td>4.9871</td>\n",
       "      <td>1968</td>\n",
       "    </tr>\n",
       "    <tr>\n",
       "      <th>15</th>\n",
       "      <td>Investor 4</td>\n",
       "      <td>4.8092</td>\n",
       "      <td>1924</td>\n",
       "    </tr>\n",
       "    <tr>\n",
       "      <th>16</th>\n",
       "      <td>Investor 4</td>\n",
       "      <td>4.5804</td>\n",
       "      <td>1970</td>\n",
       "    </tr>\n",
       "    <tr>\n",
       "      <th>17</th>\n",
       "      <td>Investor 5</td>\n",
       "      <td>4.5586</td>\n",
       "      <td>1983</td>\n",
       "    </tr>\n",
       "    <tr>\n",
       "      <th>18</th>\n",
       "      <td>Investor 5</td>\n",
       "      <td>4.6480</td>\n",
       "      <td>2008</td>\n",
       "    </tr>\n",
       "    <tr>\n",
       "      <th>19</th>\n",
       "      <td>Investor 5</td>\n",
       "      <td>4.9439</td>\n",
       "      <td>2018</td>\n",
       "    </tr>\n",
       "    <tr>\n",
       "      <th>20</th>\n",
       "      <td>Investor 5</td>\n",
       "      <td>4.7053</td>\n",
       "      <td>1983</td>\n",
       "    </tr>\n",
       "    <tr>\n",
       "      <th>21</th>\n",
       "      <td>Investor 5</td>\n",
       "      <td>4.4233</td>\n",
       "      <td>2011</td>\n",
       "    </tr>\n",
       "    <tr>\n",
       "      <th>22</th>\n",
       "      <td>Investor 6</td>\n",
       "      <td>4.9114</td>\n",
       "      <td>1978</td>\n",
       "    </tr>\n",
       "  </tbody>\n",
       "</table>\n",
       "</div>"
      ],
      "text/plain": [
       "         party   price  quantity\n",
       "0   Investor 1  4.7720      2024\n",
       "1   Investor 2  4.9656      2016\n",
       "2   Investor 3  4.8506      1997\n",
       "3   Investor 7  4.9478      1985\n",
       "4   Investor 1  4.7053      2081\n",
       "5   Investor 1  4.6694      2011\n",
       "6   Investor 1  4.9914      1989\n",
       "7   Investor 1  4.7842      1995\n",
       "8   Investor 2  4.4711      2041\n",
       "9   Investor 2  4.9166      2015\n",
       "10  Investor 3  4.7778      2020\n",
       "11  Investor 3  4.7664      1969\n",
       "12  Investor 3  4.8272      1956\n",
       "13  Investor 3  4.8242      1998\n",
       "14  Investor 3  4.9871      1968\n",
       "15  Investor 4  4.8092      1924\n",
       "16  Investor 4  4.5804      1970\n",
       "17  Investor 5  4.5586      1983\n",
       "18  Investor 5  4.6480      2008\n",
       "19  Investor 5  4.9439      2018\n",
       "20  Investor 5  4.7053      1983\n",
       "21  Investor 5  4.4233      2011\n",
       "22  Investor 6  4.9114      1978"
      ]
     },
     "execution_count": 59,
     "metadata": {},
     "output_type": "execute_result"
    }
   ],
   "source": [
    "pd.DataFrame(my_market.order_book[\"limit\"][\"bid\"])"
   ]
  },
  {
   "cell_type": "code",
   "execution_count": 43,
   "metadata": {
    "scrolled": true
   },
   "outputs": [
    {
     "data": {
      "text/plain": [
       "{'bid': 49844, 'ask': 49788}"
      ]
     },
     "execution_count": 43,
     "metadata": {},
     "output_type": "execute_result"
    }
   ],
   "source": [
    "my_market.total_quantities"
   ]
  },
  {
   "cell_type": "code",
   "execution_count": 33,
   "metadata": {},
   "outputs": [
    {
     "data": {
      "text/html": [
       "<div>\n",
       "<style scoped>\n",
       "    .dataframe tbody tr th:only-of-type {\n",
       "        vertical-align: middle;\n",
       "    }\n",
       "\n",
       "    .dataframe tbody tr th {\n",
       "        vertical-align: top;\n",
       "    }\n",
       "\n",
       "    .dataframe thead th {\n",
       "        text-align: right;\n",
       "    }\n",
       "</style>\n",
       "<table border=\"1\" class=\"dataframe\">\n",
       "  <thead>\n",
       "    <tr style=\"text-align: right;\">\n",
       "      <th></th>\n",
       "      <th></th>\n",
       "      <th>ask</th>\n",
       "      <th>bid</th>\n",
       "    </tr>\n",
       "  </thead>\n",
       "  <tbody>\n",
       "    <tr>\n",
       "      <th rowspan=\"24\" valign=\"top\">limit</th>\n",
       "      <th>0</th>\n",
       "      <td>5.2629</td>\n",
       "      <td>4.7720</td>\n",
       "    </tr>\n",
       "    <tr>\n",
       "      <th>1</th>\n",
       "      <td>5.2509</td>\n",
       "      <td>4.9656</td>\n",
       "    </tr>\n",
       "    <tr>\n",
       "      <th>2</th>\n",
       "      <td>5.4746</td>\n",
       "      <td>4.8506</td>\n",
       "    </tr>\n",
       "    <tr>\n",
       "      <th>3</th>\n",
       "      <td>5.3030</td>\n",
       "      <td>4.9478</td>\n",
       "    </tr>\n",
       "    <tr>\n",
       "      <th>4</th>\n",
       "      <td>5.1020</td>\n",
       "      <td>4.7053</td>\n",
       "    </tr>\n",
       "    <tr>\n",
       "      <th>5</th>\n",
       "      <td>5.5602</td>\n",
       "      <td>4.6694</td>\n",
       "    </tr>\n",
       "    <tr>\n",
       "      <th>6</th>\n",
       "      <td>5.1261</td>\n",
       "      <td>4.9914</td>\n",
       "    </tr>\n",
       "    <tr>\n",
       "      <th>7</th>\n",
       "      <td>5.2448</td>\n",
       "      <td>4.7842</td>\n",
       "    </tr>\n",
       "    <tr>\n",
       "      <th>8</th>\n",
       "      <td>5.3033</td>\n",
       "      <td>4.4711</td>\n",
       "    </tr>\n",
       "    <tr>\n",
       "      <th>9</th>\n",
       "      <td>5.1571</td>\n",
       "      <td>4.9166</td>\n",
       "    </tr>\n",
       "    <tr>\n",
       "      <th>10</th>\n",
       "      <td>5.2134</td>\n",
       "      <td>4.7778</td>\n",
       "    </tr>\n",
       "    <tr>\n",
       "      <th>11</th>\n",
       "      <td>5.2392</td>\n",
       "      <td>4.7664</td>\n",
       "    </tr>\n",
       "    <tr>\n",
       "      <th>12</th>\n",
       "      <td>4.9981</td>\n",
       "      <td>4.8272</td>\n",
       "    </tr>\n",
       "    <tr>\n",
       "      <th>13</th>\n",
       "      <td>5.5263</td>\n",
       "      <td>4.8242</td>\n",
       "    </tr>\n",
       "    <tr>\n",
       "      <th>14</th>\n",
       "      <td>5.4015</td>\n",
       "      <td>4.9871</td>\n",
       "    </tr>\n",
       "    <tr>\n",
       "      <th>15</th>\n",
       "      <td>5.5504</td>\n",
       "      <td>4.8092</td>\n",
       "    </tr>\n",
       "    <tr>\n",
       "      <th>16</th>\n",
       "      <td>5.5586</td>\n",
       "      <td>4.5804</td>\n",
       "    </tr>\n",
       "    <tr>\n",
       "      <th>17</th>\n",
       "      <td>5.3779</td>\n",
       "      <td>4.5586</td>\n",
       "    </tr>\n",
       "    <tr>\n",
       "      <th>18</th>\n",
       "      <td>5.0416</td>\n",
       "      <td>4.6480</td>\n",
       "    </tr>\n",
       "    <tr>\n",
       "      <th>19</th>\n",
       "      <td>5.2838</td>\n",
       "      <td>4.9439</td>\n",
       "    </tr>\n",
       "    <tr>\n",
       "      <th>20</th>\n",
       "      <td>5.3434</td>\n",
       "      <td>4.7053</td>\n",
       "    </tr>\n",
       "    <tr>\n",
       "      <th>21</th>\n",
       "      <td>5.4359</td>\n",
       "      <td>4.4233</td>\n",
       "    </tr>\n",
       "    <tr>\n",
       "      <th>22</th>\n",
       "      <td>4.9933</td>\n",
       "      <td>4.9114</td>\n",
       "    </tr>\n",
       "    <tr>\n",
       "      <th>23</th>\n",
       "      <td>5.1086</td>\n",
       "      <td>NaN</td>\n",
       "    </tr>\n",
       "    <tr>\n",
       "      <th>stop</th>\n",
       "      <th>0</th>\n",
       "      <td>NaN</td>\n",
       "      <td>4.9705</td>\n",
       "    </tr>\n",
       "  </tbody>\n",
       "</table>\n",
       "</div>"
      ],
      "text/plain": [
       "             ask     bid\n",
       "limit 0   5.2629  4.7720\n",
       "      1   5.2509  4.9656\n",
       "      2   5.4746  4.8506\n",
       "      3   5.3030  4.9478\n",
       "      4   5.1020  4.7053\n",
       "      5   5.5602  4.6694\n",
       "      6   5.1261  4.9914\n",
       "      7   5.2448  4.7842\n",
       "      8   5.3033  4.4711\n",
       "      9   5.1571  4.9166\n",
       "      10  5.2134  4.7778\n",
       "      11  5.2392  4.7664\n",
       "      12  4.9981  4.8272\n",
       "      13  5.5263  4.8242\n",
       "      14  5.4015  4.9871\n",
       "      15  5.5504  4.8092\n",
       "      16  5.5586  4.5804\n",
       "      17  5.3779  4.5586\n",
       "      18  5.0416  4.6480\n",
       "      19  5.2838  4.9439\n",
       "      20  5.3434  4.7053\n",
       "      21  5.4359  4.4233\n",
       "      22  4.9933  4.9114\n",
       "      23  5.1086     NaN\n",
       "stop  0      NaN  4.9705"
      ]
     },
     "execution_count": 33,
     "metadata": {},
     "output_type": "execute_result"
    }
   ],
   "source": [
    "my_market.to_frame()[\"price\"].unstack(1)"
   ]
  },
  {
   "cell_type": "markdown",
   "metadata": {},
   "source": [
    "© 2019 Mikael Koli"
   ]
  }
 ],
 "metadata": {
  "kernelspec": {
   "display_name": "Python [default]",
   "language": "python",
   "name": "python3"
  },
  "language_info": {
   "codemirror_mode": {
    "name": "ipython",
    "version": 3
   },
   "file_extension": ".py",
   "mimetype": "text/x-python",
   "name": "python",
   "nbconvert_exporter": "python",
   "pygments_lexer": "ipython3",
   "version": "3.6.6"
  }
 },
 "nbformat": 4,
 "nbformat_minor": 2
}
